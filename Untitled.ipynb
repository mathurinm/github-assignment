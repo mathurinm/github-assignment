{
 "cells": [
  {
   "cell_type": "markdown",
   "id": "5dbaf83f",
   "metadata": {},
   "source": [
    "Test assignement"
   ]
  },
  {
   "cell_type": "code",
   "execution_count": 20,
   "id": "222de790",
   "metadata": {},
   "outputs": [],
   "source": [
    "def max_list(X):\n",
    "    i = 0\n",
    "    j = 0\n",
    "    max = X[i,j]\n",
    "\n",
    "    n, d = X.shape\n",
    "    for row in range(n):\n",
    "        for column in range(d):\n",
    "            if max < X[row, column]:\n",
    "                i = row\n",
    "                j = column\n",
    "                max = X[i, j]\n",
    "\n",
    "    return (i, j)"
   ]
  },
  {
   "cell_type": "code",
   "execution_count": 21,
   "id": "907dc729",
   "metadata": {},
   "outputs": [],
   "source": [
    "import numpy as np\n",
    "X = np.array([[0, 1], [2, 0]])\n",
    "u = max_list(X)\n",
    "print(u)"
   ]
  },
  {
   "cell_type": "code",
   "execution_count": 11,
   "id": "be466264",
   "metadata": {},
   "outputs": [],
   "source": [
    "import numpy as np"
   ]
  },
  {
   "cell_type": "code",
   "execution_count": 40,
   "id": "7b7809f5",
   "metadata": {},
   "outputs": [],
   "source": [
    "def wallis_product(n_terms):\n",
    "    \"\"\"Implement the Wallis product to compute an approximation of pi.\n",
    "\n",
    "    See:\n",
    "    https://en.wikipedia.org/wiki/Wallis_product\n",
    "\n",
    "    Parameters\n",
    "    ----------\n",
    "    n_terms : int\n",
    "        Number of steps in the Wallis product. Note that `n_terms=0` will\n",
    "        consider the product to be `1`.\n",
    "\n",
    "    Returns\n",
    "    -------\n",
    "    pi : float\n",
    "        The approximation of order `n_terms` of pi using the Wallis product.\n",
    "    \"\"\"\n",
    "    # XXX : The n_terms is an int that corresponds to the number of\n",
    "    # terms in the product. For example 10000.\n",
    "\n",
    "    if n_terms == 0:\n",
    "        n_terms = 1\n",
    "        wallis_prod = (4 * 1) / (4 * 1 -1)\n",
    "        return wallis_prod\n",
    "    \n",
    "    else :\n",
    "        wallis_prod = 1\n",
    "        for n in range(1, n_terms + 1 ):\n",
    "            print(n)\n",
    "            wallis_prod = wallis_prod * (4 * n**2) / (4 * n**2 -1)\n",
    "    \n",
    "    return wallis_prod"
   ]
  },
  {
   "cell_type": "code",
   "execution_count": 42,
   "id": "a0e4a873",
   "metadata": {},
   "outputs": [
    {
     "name": "stdout",
     "output_type": "stream",
     "text": [
      "1\n",
      "2\n",
      "solu : 1.422222222222222\n"
     ]
    }
   ],
   "source": [
    "p = wallis_product(2)\n",
    "print('solu :', p)"
   ]
  },
  {
   "cell_type": "code",
   "execution_count": 43,
   "id": "f7ab43a8",
   "metadata": {},
   "outputs": [
    {
     "data": {
      "text/plain": [
       "2.6666666666666665"
      ]
     },
     "execution_count": 43,
     "metadata": {},
     "output_type": "execute_result"
    }
   ],
   "source": [
    "8/3"
   ]
  },
  {
   "cell_type": "code",
   "execution_count": 4,
   "id": "fc2060d9",
   "metadata": {},
   "outputs": [
    {
     "name": "stdout",
     "output_type": "stream",
     "text": [
      "1\n"
     ]
    }
   ],
   "source": [
    "import numpy as np\n",
    "X = np.array([1,2,3,4])\n",
    "shape = X.shape\n",
    "print(len(shape))"
   ]
  },
  {
   "cell_type": "code",
   "execution_count": 15,
   "id": "9072a596",
   "metadata": {},
   "outputs": [
    {
     "name": "stdout",
     "output_type": "stream",
     "text": [
      "<class 'numpy.ndarray'>\n"
     ]
    }
   ],
   "source": [
    "j = np.array([1])\n",
    "print(type(j))"
   ]
  },
  {
   "cell_type": "code",
   "execution_count": 16,
   "id": "cc497904",
   "metadata": {},
   "outputs": [
    {
     "name": "stdout",
     "output_type": "stream",
     "text": [
      "True\n"
     ]
    }
   ],
   "source": [
    "print(type(X)==type(j))"
   ]
  },
  {
   "cell_type": "code",
   "execution_count": 12,
   "id": "d85c1566",
   "metadata": {},
   "outputs": [
    {
     "name": "stdout",
     "output_type": "stream",
     "text": [
      "False\n"
     ]
    }
   ],
   "source": [
    "print(type(X) == 'numpy.ndarray')"
   ]
  },
  {
   "cell_type": "code",
   "execution_count": null,
   "id": "95ab825e",
   "metadata": {},
   "outputs": [],
   "source": []
  }
 ],
 "metadata": {
  "kernelspec": {
   "display_name": "Python 3 (ipykernel)",
   "language": "python",
   "name": "python3"
  },
  "language_info": {
   "codemirror_mode": {
    "name": "ipython",
    "version": 3
   },
   "file_extension": ".py",
   "mimetype": "text/x-python",
   "name": "python",
   "nbconvert_exporter": "python",
   "pygments_lexer": "ipython3",
   "version": "3.9.12"
  }
 },
 "nbformat": 4,
 "nbformat_minor": 5
}
