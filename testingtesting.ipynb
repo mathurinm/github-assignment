{
 "cells": [
  {
   "cell_type": "code",
   "execution_count": null,
   "metadata": {},
   "outputs": [],
   "source": [
    "### Hi Nadiy can you check this and if its ok we'll pull it to main \n",
    "\n",
    "print('Hello world!')"
   ]
  }
 ],
 "metadata": {
  "language_info": {
   "name": "python"
  }
 },
 "nbformat": 4,
 "nbformat_minor": 2
}
